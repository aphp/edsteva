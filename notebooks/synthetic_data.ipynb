{
 "cells": [
  {
   "cell_type": "code",
   "execution_count": null,
   "metadata": {
    "slideshow": {
     "slide_type": "skip"
    }
   },
   "outputs": [],
   "source": [
    "%reload_ext autoreload\n",
    "%autoreload 2\n",
    "%config Completer.use_jedi = False\n",
    "%reload_ext nb_black"
   ]
  },
  {
   "cell_type": "markdown",
   "metadata": {
    "slideshow": {
     "slide_type": "slide"
    }
   },
   "source": [
    "\n",
    "<div align=\"center\">\n",
    "\n",
    "# EDS-TeVa DEMO\n",
    "\n",
    "\n",
    "<img src=\"https://aphp.github.io/edsteva/latest/assets/logo/edsteva_logo_demo.svg\" alt=\"EDS-TeVa\">\n",
    "\n",
    "</div>\n",
    "\n",
    "EDS-TeVa can generate synthetic data that mimics OMOP data structure and the behavior of real hospital data. It is here to help you to test the different functionalities. It can also helps to test your custom [probe](https://aphp.github.io/edsteva/latest/components/probe/) and custom [model](https://aphp.github.io/edsteva/latest/components/model/).\n"
   ]
  },
  {
   "cell_type": "markdown",
   "metadata": {
    "slideshow": {
     "slide_type": "slide"
    }
   },
   "source": [
    "## I. Load the synthetic data"
   ]
  },
  {
   "cell_type": "code",
   "execution_count": null,
   "metadata": {
    "slideshow": {
     "slide_type": "fragment"
    }
   },
   "outputs": [],
   "source": [
    "from edsteva.io import SyntheticData\n",
    "from datetime import datetime\n",
    "\n",
    "data = SyntheticData(\n",
    "    mean_visit=1000,  # Average number of visit per hospital\n",
    "    t_min=datetime(2012, 1, 1),  # Minimum date of a record\n",
    "    t_max=datetime(2022, 1, 1),  # Maximum date of a record\n",
    "    seed=None,  # If int, it set a seed for random number generator\n",
    "    mode=\"step\",  # It \"rect\", it will generate data with rectangle like deployment\n",
    ").generate()"
   ]
  },
  {
   "cell_type": "code",
   "execution_count": null,
   "metadata": {
    "slideshow": {
     "slide_type": "subslide"
    }
   },
   "outputs": [],
   "source": [
    "print(data.available_tables)  # See available tables\n",
    "data.visit_detail.head()"
   ]
  },
  {
   "cell_type": "markdown",
   "metadata": {
    "slideshow": {
     "slide_type": "slide"
    }
   },
   "source": [
    "## II. Administrative records modeling\n",
    "\n",
    "### II.1 Compute the Visit Probe\n",
    "\n",
    "The [``VisitProbe``](https://aphp.github.io/edsteva/latest/reference/probes/visit/#edsteva.probes.visit.VisitProbe) computes $c_{visit}(t)$ the availability of administrative data related to visits for each care site and each stay type according to time:\n",
    "\n",
    "$$\n",
    "c_{visit}(t) = \\frac{n_{visit}(t)}{n_{99}}\n",
    "$$\n",
    "\n",
    "Where $n_{visit}(t)$ is the number of visits, $n_{99}$ is the $99^{th}$ percentile of visits and $t$ is the month.\n",
    "\n",
    "<sub>*Note*: If the $99^{th}$ percentile of visits $n_{99}$ is equal to 0, we consider that the completeness predictor $c(t)$ is also equal to 0.</sub>"
   ]
  },
  {
   "cell_type": "code",
   "execution_count": null,
   "metadata": {
    "slideshow": {
     "slide_type": "subslide"
    }
   },
   "outputs": [],
   "source": [
    "from edsteva.probes import VisitProbe\n",
    "\n",
    "visit = VisitProbe()\n",
    "visit.compute(\n",
    "    data,\n",
    "    stay_types={\n",
    "        \"All\": \".*\",\n",
    "        \"Urg_Hospit\": \"urgence|hospitalisés\",\n",
    "        \"Consult\": \"consultation\",\n",
    "    },\n",
    "    care_site_levels=[\"Hospital\", \"Pole\", \"UF\"],\n",
    ")\n",
    "visit.save()\n",
    "visit.predictor.sample(frac=1).head()"
   ]
  },
  {
   "cell_type": "markdown",
   "metadata": {
    "slideshow": {
     "slide_type": "subslide"
    }
   },
   "source": [
    "### II.2 Fit the Step Fucntion Model\n",
    "\n",
    "The [``StepFunction``](https://aphp.github.io/edsteva/latest/reference/models/step_function/step_function/#edsteva.models.step_function.step_function.StepFunction) fits a step function $f_{t_0, c_0}(t)$ with coefficients $\\Theta = (t_0, c_0)$ on a completeness predictor $c(t)$:\n",
    "\n",
    "$$\n",
    "\\begin{aligned}\n",
    "f_{t_0, c_0}(t) & = c_0 \\ \\mathbb{1}_{t \\geq t_0}(t) \\\\\n",
    "c(t) & = f_{t_0, c_0}(t) + \\epsilon(t)\n",
    "\\end{aligned}\n",
    "$$\n",
    "\n",
    "- the characteristic time $t_0$ estimates the time after which the data is available.\n",
    "- the characteristic value $c_0$ estimates the stabilized routine completeness."
   ]
  },
  {
   "cell_type": "code",
   "execution_count": null,
   "metadata": {
    "slideshow": {
     "slide_type": "subslide"
    }
   },
   "outputs": [],
   "source": [
    "from edsteva.models.step_function import StepFunction\n",
    "\n",
    "visit_model = StepFunction()\n",
    "visit_model.fit(\n",
    "    probe=visit,\n",
    ")"
   ]
  },
  {
   "cell_type": "markdown",
   "metadata": {
    "slideshow": {
     "slide_type": "slide"
    }
   },
   "source": [
    "## III. Visualize the model\n",
    "\n",
    "EDS-TeVa library provides dashboards and plots to visualize the temporal evolution of [Probes][probe] along with fitted [Models][model]. Visualization functionalities can be used to explore the database and set thresholds relative to selection criteria."
   ]
  },
  {
   "cell_type": "markdown",
   "metadata": {
    "slideshow": {
     "slide_type": "subslide"
    }
   },
   "source": [
    "### III.1 Show interactive dashboard\n",
    "\n",
    "A **Dashboard** is an interactive [Altair](https://altair-viz.github.io/) chart that lets you visualize variables aggregated by any combination of columns included in the [Probe](https://aphp.github.io/edsteva/latest/components/probe/). In the library, the dashboards are divided into two parts:\n",
    "\n",
    "- On the top, there is the plot of the aggregated variable of interest.\n",
    "- On the bottom, there are interactive filters to set. Only the selected data is aggregated to produce the plot on the top."
   ]
  },
  {
   "cell_type": "code",
   "execution_count": null,
   "metadata": {
    "slideshow": {
     "slide_type": "subslide"
    }
   },
   "outputs": [],
   "source": [
    "from edsteva.viz.dashboards import predictor_dashboard\n",
    "\n",
    "predictor_dashboard(\n",
    "    probe=visit,\n",
    "    fitted_model=visit_model,\n",
    "    care_site_level=\"UF\",\n",
    ")"
   ]
  },
  {
   "cell_type": "markdown",
   "metadata": {
    "slideshow": {
     "slide_type": "subslide"
    }
   },
   "source": [
    "### III.2 Plot the model\n",
    "\n",
    "This static plot can be exported in png or svg. As it is less interactive, you may specify the filters in the inputs of the functions as follow:"
   ]
  },
  {
   "cell_type": "code",
   "execution_count": null,
   "metadata": {
    "slideshow": {
     "slide_type": "subslide"
    }
   },
   "outputs": [],
   "source": [
    "from edsteva.viz.plots import plot_probe\n",
    "\n",
    "plot_probe(\n",
    "    probe=visit,\n",
    "    fitted_model=visit_model,\n",
    "    care_site_level=\"Hospital\",\n",
    "    stay_type=\"All\",\n",
    ")"
   ]
  },
  {
   "cell_type": "markdown",
   "metadata": {
    "slideshow": {
     "slide_type": "slide"
    }
   },
   "source": [
    "## IV. Set the thresholds\n",
    "\n",
    "The estimates dashboard provides:\n",
    "\n",
    "- on the top, a representation of the overall deviation from the Model.\n",
    "- on the bottom, interactive sliders that allows you to vary the thresholds.\n",
    "\n",
    "One use could be to set the thresholds that keep the most care sites while having an acceptable overall deviation."
   ]
  },
  {
   "cell_type": "code",
   "execution_count": null,
   "metadata": {
    "slideshow": {
     "slide_type": "subslide"
    }
   },
   "outputs": [],
   "source": [
    "from edsteva.viz.dashboards import estimates_dashboard\n",
    "\n",
    "estimates_dashboard(\n",
    "    probe=visit,\n",
    "    fitted_model=visit_model,\n",
    "    care_site_level=\"UF\",\n",
    ")"
   ]
  }
 ],
 "metadata": {
  "celltoolbar": "Slideshow",
  "kernelspec": {
   "display_name": "edsteva",
   "language": "python",
   "name": "edsteva"
  },
  "language_info": {
   "codemirror_mode": {
    "name": "ipython",
    "version": 3
   },
   "file_extension": ".py",
   "mimetype": "text/x-python",
   "name": "python",
   "nbconvert_exporter": "python",
   "pygments_lexer": "ipython3",
   "version": "3.7.13"
  },
  "rise": {
   "autolaunch": true,
   "enable_chalkboard": true,
   "header": "<h1>EDS-TeVa DEMO</h1>",
   "scroll": true,
   "theme": "sky"
  },
  "vscode": {
   "interpreter": {
    "hash": "a5d8dd5297f7e3e09344b528abaa8e081049c8298e7d1be05beff73d367e8c75"
   }
  }
 },
 "nbformat": 4,
 "nbformat_minor": 2
}
