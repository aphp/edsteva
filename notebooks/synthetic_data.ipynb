{
 "cells": [
  {
   "cell_type": "code",
   "execution_count": null,
   "metadata": {
    "slideshow": {
     "slide_type": "skip"
    }
   },
   "outputs": [],
   "source": [
    "%reload_ext autoreload\n",
    "%autoreload 2\n",
    "%config Completer.use_jedi = False\n",
    "%reload_ext lab_black"
   ]
  },
  {
   "cell_type": "markdown",
   "metadata": {
    "slideshow": {
     "slide_type": "slide"
    }
   },
   "source": [
    "\n",
    "<div align=\"center\">\n",
    "\n",
    "# EDS-TeVa DEMO\n",
    "\n",
    "\n",
    "<img src=\"https://aphp.github.io/edsteva/latest/assets/logo/edsteva_logo_demo.svg\" alt=\"EDS-TeVa\">\n",
    "\n",
    "</div>\n",
    "\n",
    "EDS-TeVa can generate synthetic data that mimics OMOP data structure and the behavior of real hospital data. It is here to help you to test the different functionalities. It can also helps to test your custom [probe](https://aphp.github.io/edsteva/latest/components/probe/) and custom [model](https://aphp.github.io/edsteva/latest/components/model/).\n"
   ]
  },
  {
   "cell_type": "markdown",
   "metadata": {
    "slideshow": {
     "slide_type": "slide"
    }
   },
   "source": [
    "## I. Load the synthetic data"
   ]
  },
  {
   "cell_type": "code",
   "execution_count": null,
   "metadata": {
    "slideshow": {
     "slide_type": "fragment"
    }
   },
   "outputs": [],
   "source": [
    "from edsteva.io import SyntheticData\n",
    "from datetime import datetime\n",
    "\n",
    "data = SyntheticData(\n",
    "    mean_visit=1000,  # Average number of visit per hospital\n",
    "    t_min=datetime(2012, 1, 1),  # Minimum date of a record\n",
    "    t_max=datetime(2022, 1, 1),  # Maximum date of a record\n",
    "    seed=42,  # If int, it set a seed for random number generator\n",
    "    mode=\"step\",  # It \"rect\", it will generate data with rectangle like deployment\n",
    ").generate()"
   ]
  },
  {
   "cell_type": "code",
   "execution_count": null,
   "metadata": {
    "slideshow": {
     "slide_type": "subslide"
    }
   },
   "outputs": [],
   "source": [
    "print(data.available_tables)  # See available tables\n",
    "data.visit_detail.head()"
   ]
  },
  {
   "cell_type": "markdown",
   "metadata": {
    "slideshow": {
     "slide_type": "slide"
    }
   },
   "source": [
    "## II. Administrative records modeling\n",
    "\n",
    "### II.1 Aggregate data to compute the completeness predictor $c_{adm}(t)$\n",
    "\n",
    "EDS-TeVa provides a python class [``VisitProbe``](https://aphp.github.io/edsteva/latest/reference/probes/visit/#edsteva.probes.visit.VisitProbe) that aggregates administrative data in order to obtain a completeness predictor for each care site and each stay type according to time:\n",
    "\n",
    "$$\n",
    "c_{adm}(t) = \\frac{n_{adm}(t)}{n_{99}}\n",
    "$$\n",
    "\n",
    "For a given care site and a given stay type, $n_{adm}(t)$ is the number of administrative records per month $t$ and $n_{99}$ is the $99^{th}$ percentile of the $n_{adm}(t)$ distribution."
   ]
  },
  {
   "cell_type": "code",
   "execution_count": null,
   "metadata": {
    "scrolled": false,
    "slideshow": {
     "slide_type": "subslide"
    }
   },
   "outputs": [],
   "source": [
    "from edsteva.probes import VisitProbe\n",
    "\n",
    "visit = VisitProbe()\n",
    "visit.compute(\n",
    "    data,\n",
    "    stay_types={\n",
    "        \"All\": \".*\",\n",
    "        \"Urg_Hospit\": \"urgence|hospitalisés\",\n",
    "        \"Consult\": \"consultation\",\n",
    "    },\n",
    "    care_site_levels=[\"Hospital\", \"Pole\", \"UF\"],\n",
    ")\n",
    "visit.save()\n",
    "visit.predictor.sample(frac=1).head()"
   ]
  },
  {
   "cell_type": "markdown",
   "metadata": {
    "slideshow": {
     "slide_type": "subslide"
    }
   },
   "source": [
    "### II.2 Filter your Probe (optional)\n",
    "\n",
    "In this example, let us consider we are only interested about \"Hôpital-1\" and \"Hôpital-2\" over the period from 2014 to 2021. We consequently filter data before any further analysis."
   ]
  },
  {
   "cell_type": "code",
   "execution_count": null,
   "metadata": {
    "slideshow": {
     "slide_type": "fragment"
    }
   },
   "outputs": [],
   "source": [
    "from edsteva.probes import VisitProbe\n",
    "\n",
    "start_date, end_date = (\n",
    "    \"2014-01-01\",\n",
    "    \"2021-01-01\",\n",
    ")  # This is the study period considered in the example.\n",
    "care_site_short_name = [\"Hôpital-1\", \"Hôpital-2\"]\n",
    "\n",
    "visit = VisitProbe()\n",
    "\n",
    "# `visit.predictor` is a `Pandas.DataFrame`, you can use Pandas'API to filter date.\n",
    "visit.load()\n",
    "visit.predictor = visit.predictor[\n",
    "    (visit.predictor[\"date\"] >= start_date)\n",
    "    & (visit.predictor[\"date\"] <= end_date)\n",
    "]\n",
    "\n",
    "# To filter care sites there is a dedicated method that also includes all upper and lower levels care sites related to the selected care sites.\n",
    "visit.filter_care_site(care_site_short_names=care_site_short_name)\n",
    "\n",
    "visit.predictor.sample(frac=1).head()"
   ]
  },
  {
   "cell_type": "markdown",
   "metadata": {
    "slideshow": {
     "slide_type": "subslide"
    }
   },
   "source": [
    "### II.3 Fit the Step Function Model\n",
    "\n",
    "The [``StepFunction``](https://aphp.github.io/edsteva/latest/reference/models/step_function/step_function/#edsteva.models.step_function.step_function.StepFunction) fits a step function $f_{t_0, c_0}(t)$ with coefficients $\\Theta = (t_0, c_0)$ on a completeness predictor $c(t)$:\n",
    "\n",
    "$$\n",
    "\\begin{aligned}\n",
    "f_{t_0, c_0}(t) & = c_0 \\ \\mathbb{1}_{t \\geq t_0}(t) \\\\\n",
    "c(t) & = f_{t_0, c_0}(t) + \\epsilon(t)\n",
    "\\end{aligned}\n",
    "$$\n",
    "\n",
    "- the characteristic time $t_0$ estimates the time after which the data is available.\n",
    "- the characteristic value $c_0$ estimates the stabilized routine completeness."
   ]
  },
  {
   "cell_type": "code",
   "execution_count": null,
   "metadata": {
    "slideshow": {
     "slide_type": "subslide"
    }
   },
   "outputs": [],
   "source": [
    "from edsteva.models.step_function import StepFunction\n",
    "\n",
    "visit_model = StepFunction()\n",
    "visit_model.fit(\n",
    "    probe=visit,\n",
    ")\n",
    "visit_model.save()\n",
    "visit_model.estimates.sample(frac=1).head()"
   ]
  },
  {
   "cell_type": "markdown",
   "metadata": {
    "slideshow": {
     "slide_type": "slide"
    }
   },
   "source": [
    "## III. Visualize the model\n",
    "\n",
    "EDS-TeVa library provides dashboards and plots to visualize the temporal evolution of [Probes](https://aphp.github.io/edsteva/latest/components/probe/) along with fitted [Models](https://aphp.github.io/edsteva/latest/components/model/). Visualization functionalities can be used to explore the database and set thresholds relative to selection criteria."
   ]
  },
  {
   "cell_type": "markdown",
   "metadata": {
    "slideshow": {
     "slide_type": "subslide"
    }
   },
   "source": [
    "### III.1 Plot the model\n",
    "\n",
    "This static plot can be exported in png or svg. As it is less interactive, you may specify the filters in the inputs of the functions as follow:"
   ]
  },
  {
   "cell_type": "code",
   "execution_count": null,
   "metadata": {
    "slideshow": {
     "slide_type": "subslide"
    }
   },
   "outputs": [],
   "source": [
    "from edsteva.viz.plots import plot_probe\n",
    "\n",
    "plot_probe(\n",
    "    probe=visit,\n",
    "    fitted_model=visit_model,\n",
    "    care_site_level=\"Hospital\",\n",
    "    stay_type=\"All\",\n",
    ")"
   ]
  },
  {
   "attachments": {},
   "cell_type": "markdown",
   "metadata": {
    "slideshow": {
     "slide_type": "fragment"
    }
   },
   "source": [
    "### III.2 Show interactive dashboard\n",
    "\n",
    "A **Dashboard** is an interactive [Altair](https://altair-viz.github.io/) chart that lets you visualize variables aggregated by any combination of columns included in the [Probe](https://aphp.github.io/edsteva/latest/components/probe/). In the library, the dashboards are divided into two parts:\n",
    "\n",
    "- On the top, there is the plot of the aggregated variable of interest.\n",
    "- On the bottom, there are interactive filters to set. Only the selected data is aggregated to produce the plot on the top."
   ]
  },
  {
   "cell_type": "code",
   "execution_count": null,
   "metadata": {
    "slideshow": {
     "slide_type": "subslide"
    }
   },
   "outputs": [],
   "source": [
    "from edsteva.viz.dashboards import predictor_dashboard\n",
    "\n",
    "predictor_dashboard(\n",
    "    probe=visit,\n",
    "    fitted_model=visit_model,\n",
    "    care_site_level=\"UF\",\n",
    ")"
   ]
  },
  {
   "cell_type": "markdown",
   "metadata": {
    "slideshow": {
     "slide_type": "slide"
    }
   },
   "source": [
    "## IV. Set the thresholds to fix the deployment bias\n",
    "\n",
    "Now, that we have estimated $t_0$, $c_0$ and $error$ for each care site and each stay type, one can set a threshold for each estimate in order to select only the care sites where the visits are available over the period of interest."
   ]
  },
  {
   "cell_type": "markdown",
   "metadata": {
    "slideshow": {
     "slide_type": "subslide"
    }
   },
   "source": [
    "### IV.1 Estimates distributions\n",
    "\n",
    "Visualizing the density plots and the medians of the estimates can help you setting the thresholds' values."
   ]
  },
  {
   "cell_type": "code",
   "execution_count": null,
   "metadata": {
    "slideshow": {
     "slide_type": "fragment"
    }
   },
   "outputs": [],
   "source": [
    "from edsteva.viz.plots import plot_estimates_densities\n",
    "\n",
    "plot_estimates_densities(\n",
    "    fitted_model=visit_model,\n",
    ")"
   ]
  },
  {
   "cell_type": "markdown",
   "metadata": {
    "slideshow": {
     "slide_type": "subslide"
    }
   },
   "source": [
    "### IV.2 Estimates dashboard\n",
    "\n",
    "The estimates dashboard provides a representation of the overall deviation from the Model on the top and interactive sliders on the bottom that allows you to vary the thresholds. The idea is to set the thresholds that keep the most care sites while having an acceptable overall deviation."
   ]
  },
  {
   "cell_type": "code",
   "execution_count": null,
   "metadata": {
    "slideshow": {
     "slide_type": "subslide"
    }
   },
   "outputs": [],
   "source": [
    "from edsteva.viz.dashboards import estimates_dashboard\n",
    "\n",
    "estimates_dashboard(\n",
    "    probe=visit,\n",
    "    fitted_model=visit_model,\n",
    "    care_site_level=\"UF\", # You can modify the level\n",
    ")"
   ]
  },
  {
   "cell_type": "markdown",
   "metadata": {
    "slideshow": {
     "slide_type": "subslide"
    }
   },
   "source": [
    "### IV.2 Fix the deployment bias"
   ]
  },
  {
   "cell_type": "code",
   "execution_count": null,
   "metadata": {
    "slideshow": {
     "slide_type": "subslide"
    }
   },
   "outputs": [],
   "source": [
    "t_0_max = \"2017-01-01\" \n",
    "c_0_min = 0.5\n",
    "error_max = 0.05\n",
    "\n",
    "estimates = visit_model.estimates\n",
    "selected_care_site = estimates[\n",
    "    (estimates[\"t_0\"] <= t_0_max)\n",
    "    & (estimates[\"c_0\"] >= c_0_min)\n",
    "    & (estimates[\"error\"] <= error_max)\n",
    "]\n",
    "print(selected_care_site[\"care_site_id\"].tolist())"
   ]
  },
  {
   "cell_type": "markdown",
   "metadata": {
    "slideshow": {
     "slide_type": "fragment"
    }
   },
   "source": [
    "In this example, $c_0$ and $error$ thresholds have been set around the median (cf. [distribution](#IV.1-Estimates-distributions)). However, this method is arbitrary and you have to find the appropriate method for your study with the help of the [estimate dashboard](#IV.1-Estimates-distributions)."
   ]
  },
  {
   "cell_type": "markdown",
   "metadata": {
    "slideshow": {
     "slide_type": "slide"
    }
   },
   "source": [
    "## V. We need you to improve it"
   ]
  },
  {
   "cell_type": "markdown",
   "metadata": {
    "slideshow": {
     "slide_type": "fragment"
    }
   },
   "source": [
    "### V.1 Limitations\n",
    "\n",
    "In this example, $c_0$ and $error$ thresholds have been set around the median (cf. [distribution](#IV.1-Estimates-distributions)). However, this method is arbitrary and you have to find the appropriate method for your study with the help of the [estimate dashboard](#IV.1-Estimates-distributions).\n",
    "\n",
    "EDS-TeVa provides modelling tools to characterize the temporal variability of your data, it does not intend to provide direct methods to fix the deployment bias. As an open-source library, EDS-TeVa is also here to host a discussion in order to facilitate collective methodological convergence on flexible solutions. The default methods proposed in this example is intended to be reviewed and challenged by the user community."
   ]
  },
  {
   "cell_type": "markdown",
   "metadata": {
    "slideshow": {
     "slide_type": "subslide"
    }
   },
   "source": [
    "### V.2 Make it your own\n",
    "\n",
    "The working example above describes the canonical usage workflow. However, you would probably need different Probes, Models, Visualizations and methods to set the thresholds for your projects. The components already available in the library are listed in the [documentation](https://aphp.github.io/edsteva/latest/#available-components) but if it doesn't meet your requirements, you are encouraged to create your own."
   ]
  },
  {
   "cell_type": "markdown",
   "metadata": {
    "slideshow": {
     "slide_type": "fragment"
    }
   },
   "source": [
    "### V.3 Contribute\n",
    "\n",
    "If you managed to implement your own component, or even if you just thought about a new component do not hesitate to share it with the community by following the [contribution guidelines](https://aphp.github.io/edsteva/latest/contributing/). Contributions are welcome, and they are greatly appreciated! Every little bit helps, and credit will always be given."
   ]
  }
 ],
 "metadata": {
  "celltoolbar": "Slideshow",
  "kernelspec": {
   "display_name": "Python 3.7.13 ('.venv': poetry)",
   "language": "python",
   "name": "python3"
  },
  "language_info": {
   "codemirror_mode": {
    "name": "ipython",
    "version": 3
   },
   "file_extension": ".py",
   "mimetype": "text/x-python",
   "name": "python",
   "nbconvert_exporter": "python",
   "pygments_lexer": "ipython3",
   "version": "3.7.13 (default, Mar 29 2022, 02:18:16) \n[GCC 7.5.0]"
  },
  "rise": {
   "autolaunch": true,
   "enable_chalkboard": true,
   "header": "<h1>EDS-TeVa DEMO</h1>",
   "scroll": true,
   "theme": "white"
  },
  "vscode": {
   "interpreter": {
    "hash": "a5d8dd5297f7e3e09344b528abaa8e081049c8298e7d1be05beff73d367e8c75"
   }
  }
 },
 "nbformat": 4,
 "nbformat_minor": 2
}
