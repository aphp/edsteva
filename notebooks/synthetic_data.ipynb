{
 "cells": [
  {
   "cell_type": "code",
   "execution_count": 1,
   "metadata": {},
   "outputs": [],
   "source": [
    "%reload_ext autoreload\n",
    "%autoreload 2\n",
    "%config Completer.use_jedi = False\n",
    "%reload_ext lab_black"
   ]
  },
  {
   "cell_type": "markdown",
   "metadata": {},
   "source": [
    "# Playing with synthetic data\n",
    "\n",
    "EDS-TeVa can generate synthetic data that mimics OMOP data structure and the behavior of real hospital data. It is here to help you to test the different functionalities and why not allow you to test your custom probes and custom models.\n",
    "\n",
    "!!!success \"Contribution\"\n",
    "    If you managed to implement your own component, or even if you just thought about a new component do not hesitate to share it with the community by following the [contribution guidelines][contributing]. Contributions are welcome, and they are greatly appreciated! Every little bit helps, and credit will always be given."
   ]
  },
  {
   "cell_type": "markdown",
   "metadata": {},
   "source": [
    "## Load the data"
   ]
  },
  {
   "cell_type": "code",
   "execution_count": 5,
   "metadata": {},
   "outputs": [],
   "source": [
    "from edsteva.io import SyntheticData\n",
    "from datetime import datetime\n",
    "\n",
    "data = SyntheticData(\n",
    "    mean_visit=1000,\n",
    "    t_min=datetime(2012, 1, 1),\n",
    "    t_max=datetime(2022, 1, 1),\n",
    ")"
   ]
  },
  {
   "cell_type": "markdown",
   "metadata": {},
   "source": [
    "## Administrative records modeling\n",
    "\n",
    "### Compute the Visit Probe\n",
    "\n",
    "The [``VisitProbe``][edsteva.probes.visit.VisitProbe] computes $c_{visit}(t)$ the availability of administrative data related to visits for each care site and each stay type according to time:\n",
    "\n",
    "$$\n",
    "c_{visit}(t) = \\frac{n_{visit}(t)}{n_{99}}\n",
    "$$\n",
    "\n",
    "Where $n_{visit}(t)$ is the number of visits, $n_{99}$ is the $99^{th}$ percentile of visits and $t$ is the month.\n",
    "\n",
    "!!!info \"\"\n",
    "    If the $99^{th}$ percentile of visits $n_{99}$ is equal to 0, we consider that the completeness predictor $c(t)$ is also equal to 0."
   ]
  },
  {
   "cell_type": "code",
   "execution_count": 7,
   "metadata": {},
   "outputs": [
    {
     "name": "stderr",
     "output_type": "stream",
     "text": [
      "2022-10-06 19:25:46.740 | INFO     | edsteva.probes.base:cache_predictor:305 - Cache the predictor, you can reset the predictor to this state with the method reset_predictor\n",
      "2022-10-06 19:25:46.743 | INFO     | edsteva.probes.utils:save_object:383 - It has been saved in /home/adam/.cache/edsteva/edsteva/probes/visitprobe.pickle\n"
     ]
    },
    {
     "data": {
      "text/html": [
       "<div>\n",
       "<style scoped>\n",
       "    .dataframe tbody tr th:only-of-type {\n",
       "        vertical-align: middle;\n",
       "    }\n",
       "\n",
       "    .dataframe tbody tr th {\n",
       "        vertical-align: top;\n",
       "    }\n",
       "\n",
       "    .dataframe thead th {\n",
       "        text-align: right;\n",
       "    }\n",
       "</style>\n",
       "<table border=\"1\" class=\"dataframe\">\n",
       "  <thead>\n",
       "    <tr style=\"text-align: right;\">\n",
       "      <th></th>\n",
       "      <th>care_site_level</th>\n",
       "      <th>care_site_id</th>\n",
       "      <th>care_site_short_name</th>\n",
       "      <th>stay_type</th>\n",
       "      <th>date</th>\n",
       "      <th>n_visit</th>\n",
       "      <th>c</th>\n",
       "    </tr>\n",
       "  </thead>\n",
       "  <tbody>\n",
       "    <tr>\n",
       "      <th>1147</th>\n",
       "      <td>Pôle/DMU</td>\n",
       "      <td>22</td>\n",
       "      <td>Pôle/DMU-22</td>\n",
       "      <td>Urg_Hospit</td>\n",
       "      <td>2013-01-01</td>\n",
       "      <td>0.0</td>\n",
       "      <td>0.000000</td>\n",
       "    </tr>\n",
       "    <tr>\n",
       "      <th>1484</th>\n",
       "      <td>Unité Fonctionnelle (UF)</td>\n",
       "      <td>111</td>\n",
       "      <td>Unité Fonctionnelle (UF)-111</td>\n",
       "      <td>All</td>\n",
       "      <td>2017-09-01</td>\n",
       "      <td>0.0</td>\n",
       "      <td>0.000000</td>\n",
       "    </tr>\n",
       "    <tr>\n",
       "      <th>866</th>\n",
       "      <td>Pôle/DMU</td>\n",
       "      <td>12</td>\n",
       "      <td>Pôle/DMU-12</td>\n",
       "      <td>All</td>\n",
       "      <td>2020-03-01</td>\n",
       "      <td>19.0</td>\n",
       "      <td>0.779327</td>\n",
       "    </tr>\n",
       "    <tr>\n",
       "      <th>1765</th>\n",
       "      <td>Unité Fonctionnelle (UF)</td>\n",
       "      <td>112</td>\n",
       "      <td>Unité Fonctionnelle (UF)-112</td>\n",
       "      <td>Urg_Hospit</td>\n",
       "      <td>2019-12-01</td>\n",
       "      <td>5.0</td>\n",
       "      <td>0.474834</td>\n",
       "    </tr>\n",
       "    <tr>\n",
       "      <th>1024</th>\n",
       "      <td>Pôle/DMU</td>\n",
       "      <td>21</td>\n",
       "      <td>Pôle/DMU-21</td>\n",
       "      <td>All</td>\n",
       "      <td>2017-05-01</td>\n",
       "      <td>16.0</td>\n",
       "      <td>0.503145</td>\n",
       "    </tr>\n",
       "  </tbody>\n",
       "</table>\n",
       "</div>"
      ],
      "text/plain": [
       "               care_site_level care_site_id          care_site_short_name  \\\n",
       "1147                  Pôle/DMU           22                   Pôle/DMU-22   \n",
       "1484  Unité Fonctionnelle (UF)          111  Unité Fonctionnelle (UF)-111   \n",
       "866                   Pôle/DMU           12                   Pôle/DMU-12   \n",
       "1765  Unité Fonctionnelle (UF)          112  Unité Fonctionnelle (UF)-112   \n",
       "1024                  Pôle/DMU           21                   Pôle/DMU-21   \n",
       "\n",
       "       stay_type       date  n_visit         c  \n",
       "1147  Urg_Hospit 2013-01-01      0.0  0.000000  \n",
       "1484         All 2017-09-01      0.0  0.000000  \n",
       "866          All 2020-03-01     19.0  0.779327  \n",
       "1765  Urg_Hospit 2019-12-01      5.0  0.474834  \n",
       "1024         All 2017-05-01     16.0  0.503145  "
      ]
     },
     "execution_count": 7,
     "metadata": {},
     "output_type": "execute_result"
    }
   ],
   "source": [
    "from edsteva.probes import VisitProbe\n",
    "\n",
    "visit = VisitProbe()\n",
    "visit.compute(\n",
    "    data,\n",
    "    stay_types={\n",
    "        \"All\": \".*\",\n",
    "        \"Urg_Hospit\": \"urgence|hospitalisés\",\n",
    "    },\n",
    "    care_site_levels=[\"Hospital\", \"Pole\", \"UF\"],\n",
    ")\n",
    "visit.save()\n",
    "visit.predictor.sample(frac=1).head()"
   ]
  },
  {
   "cell_type": "markdown",
   "metadata": {},
   "source": [
    "### Fit the Step Fucntion Model\n",
    "\n",
    "The [``StepFunction``][edsteva.models.step_function.step_function.StepFunction] fits a step function $f_{t_0, c_0}(t)$ with coefficients $\\Theta = (t_0, c_0)$ on a completeness predictor $c(t)$:\n",
    "\n",
    "$$\n",
    "\\begin{aligned}\n",
    "f_{t_0, c_0}(t) & = c_0 \\ \\mathbb{1}_{t \\geq t_0}(t) \\\\\n",
    "c(t) & = f_{t_0, c_0}(t) + \\epsilon(t)\n",
    "\\end{aligned}\n",
    "$$\n",
    "\n",
    "- the characteristic time $t_0$ estimates the time after which the data is available.\n",
    "- the characteristic value $c_0$ estimates the stabilized routine completeness."
   ]
  },
  {
   "cell_type": "code",
   "execution_count": 8,
   "metadata": {},
   "outputs": [],
   "source": [
    "from edsteva.models.step_function import StepFunction\n",
    "\n",
    "visit_model = StepFunction()\n",
    "visit_model.fit(\n",
    "    probe=visit,\n",
    ")"
   ]
  },
  {
   "cell_type": "markdown",
   "metadata": {},
   "source": [
    "## Visualize the model\n",
    "\n",
    "EDS-TeVa library provides dashboards and plots to visualize the temporal evolution of [Probes][probe] along with fitted [Models][model]. Visualization functionalities can be used to explore the database and set thresholds relative to selection criteria."
   ]
  },
  {
   "cell_type": "markdown",
   "metadata": {},
   "source": [
    "### Show interactive dashboard\n",
    "\n",
    "A **Dashboard** is an interactive [Altair](https://altair-viz.github.io/) chart that lets you visualize variables aggregated by any combination of columns included in the [Probe][probe]. In the library, the dashboards are divided into two parts:\n",
    "\n",
    "- On the top, there is the plot of the aggregated variable of interest.\n",
    "- On the bottom, there are interactive filters to set. Only the selected data is aggregated to produce the plot on the top."
   ]
  },
  {
   "cell_type": "code",
   "execution_count": null,
   "metadata": {},
   "outputs": [],
   "source": [
    "from edsteva.viz.dashboards import predictor_dashboard\n",
    "\n",
    "predictor_dashboard(\n",
    "    probe=visit,\n",
    "    fitted_model=visit_model,\n",
    "    care_site_level=\"UF\",\n",
    ")"
   ]
  },
  {
   "cell_type": "markdown",
   "metadata": {},
   "source": [
    "Click to see the [Predictor Dashboard](../assets/charts/synth_predictor_dashboard.html)"
   ]
  },
  {
   "cell_type": "markdown",
   "metadata": {},
   "source": [
    "### Plot the model\n",
    "\n",
    "This static plot can be exported in png or svg. As it is less interactive, you may specify the filters in the inputs of the functions as follow:"
   ]
  },
  {
   "cell_type": "code",
   "execution_count": 11,
   "metadata": {},
   "outputs": [],
   "source": [
    "import altair as alt\n",
    "from edsteva.viz.plots import plot_probe\n",
    "\n",
    "chart = plot_probe(\n",
    "    probe=visit,\n",
    "    fitted_model=visit_model,\n",
    "    care_site_level=\"Hospital\",\n",
    "    stay_type=\"All\",\n",
    ")"
   ]
  },
  {
   "cell_type": "markdown",
   "metadata": {},
   "source": [
    "```vegalite\n",
    "{\n",
    "\"schema-url\": \"../../assets/charts/synth_fitted_visit.json\"\n",
    "}\n",
    "```"
   ]
  },
  {
   "cell_type": "markdown",
   "metadata": {},
   "source": [
    "## Set the thresholds\n",
    "\n",
    "The estimates dashboard provides:\n",
    "\n",
    "- on the top, a representation of the overall deviation from the Model.\n",
    "- on the bottom, interactive sliders that allows you to vary the thresholds.\n",
    "\n",
    "One use could be to set the thresholds that keep the most care sites while having an acceptable overall deviation."
   ]
  },
  {
   "cell_type": "code",
   "execution_count": null,
   "metadata": {},
   "outputs": [],
   "source": [
    "from edsteva.viz.dashboards import estimates_dashboard\n",
    "\n",
    "estimates_dashboard(\n",
    "    probe=visit,\n",
    "    fitted_model=visit_model,\n",
    "    care_site_level=\"UF\",\n",
    ")"
   ]
  },
  {
   "cell_type": "markdown",
   "metadata": {},
   "source": [
    "Click to see the [Estimates Dashboard](../assets/charts/synth_threshold_dashboard.html)."
   ]
  }
 ],
 "metadata": {
  "kernelspec": {
   "display_name": "Python 3.7.13 ('.venv': poetry)",
   "language": "python",
   "name": "python3"
  },
  "language_info": {
   "codemirror_mode": {
    "name": "ipython",
    "version": 3
   },
   "file_extension": ".py",
   "mimetype": "text/x-python",
   "name": "python",
   "nbconvert_exporter": "python",
   "pygments_lexer": "ipython3",
   "version": "3.7.13"
  },
  "orig_nbformat": 4,
  "vscode": {
   "interpreter": {
    "hash": "8d9fd6df514111f70401340d2a1443f871d1ff64bf1df8d7ac5b8c221fed8d44"
   }
  }
 },
 "nbformat": 4,
 "nbformat_minor": 2
}
