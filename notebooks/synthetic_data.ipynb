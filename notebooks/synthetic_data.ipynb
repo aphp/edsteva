{
 "cells": [
  {
   "cell_type": "markdown",
   "metadata": {
    "slideshow": {
     "slide_type": "skip"
    }
   },
   "source": [
    "<img src=\"data:image/png;base64,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\" />"
   ]
  },
  {
   "cell_type": "code",
   "execution_count": null,
   "metadata": {
    "slideshow": {
     "slide_type": "skip"
    }
   },
   "outputs": [],
   "source": [
    "%reload_ext autoreload\n",
    "%autoreload 2\n",
    "%config Completer.use_jedi = False\n",
    "%reload_ext nb_black"
   ]
  },
  {
   "cell_type": "markdown",
   "metadata": {
    "slideshow": {
     "slide_type": "slide"
    }
   },
   "source": [
    "\n",
    "<div align=\"center\">\n",
    "\n",
    "# EDS-TeVa DEMO\n",
    "\n",
    "\n",
    "<img src=\"https://aphp.github.io/edsteva/latest/assets/logo/edsteva_logo_demo.svg\" alt=\"EDS-TeVa\">\n",
    "\n",
    "</div>\n",
    "\n",
    "EDS-TeVa can generate synthetic data that mimics OMOP data structure and the behavior of real hospital data. It is here to help you to test the different functionalities. It can also helps to test your custom [probe](https://aphp.github.io/edsteva/latest/components/probe/) and custom [model](https://aphp.github.io/edsteva/latest/components/model/).\n"
   ]
  },
  {
   "cell_type": "markdown",
   "metadata": {
    "slideshow": {
     "slide_type": "slide"
    }
   },
   "source": [
    "## I. Load the synthetic data"
   ]
  },
  {
   "cell_type": "code",
   "execution_count": null,
   "metadata": {
    "slideshow": {
     "slide_type": "fragment"
    }
   },
   "outputs": [],
   "source": [
    "from edsteva.io import SyntheticData\n",
    "from datetime import datetime\n",
    "\n",
    "data = SyntheticData(\n",
    "    mean_visit=1000,  # Average number of visit per hospital\n",
    "    t_min=datetime(2012, 1, 1),  # Minimum date of a record\n",
    "    t_max=datetime(2022, 1, 1),  # Maximum date of a record\n",
    "    seed=None,  # If int, it set a seed for random number generator\n",
    "    mode=\"step\",  # It \"rect\", it will generate data with rectangle like deployment\n",
    ").generate()"
   ]
  },
  {
   "cell_type": "code",
   "execution_count": null,
   "metadata": {
    "slideshow": {
     "slide_type": "subslide"
    }
   },
   "outputs": [],
   "source": [
    "print(data.available_tables)  # See available tables\n",
    "data.visit_detail.head()"
   ]
  },
  {
   "cell_type": "markdown",
   "metadata": {
    "slideshow": {
     "slide_type": "slide"
    }
   },
   "source": [
    "## II. Administrative records modeling\n",
    "\n",
    "### II.1 Aggregate data to compute the completeness predictor $c_{adm}(t)$\n",
    "\n",
    "EDS-TeVa provides a python class [``VisitProbe``](https://aphp.github.io/edsteva/latest/reference/probes/visit/#edsteva.probes.visit.VisitProbe) that aggregates administrative data in order to obtain a completeness predictor for each care site and each stay type according to time:\n",
    "\n",
    "$$\n",
    "c_{adm}(t) = \\frac{n_{adm}(t)}{n_{99}}\n",
    "$$\n",
    "\n",
    "For a given care site and a given stay type, $n_{adm}(t)$ is the number of administrative records per month $t$ and $n_{99}$ is the $99^{th}$ percentile of the $n_{adm}(t)$ distribution."
   ]
  },
  {
   "cell_type": "code",
   "execution_count": null,
   "metadata": {
    "scrolled": false,
    "slideshow": {
     "slide_type": "subslide"
    }
   },
   "outputs": [],
   "source": [
    "from edsteva.probes import VisitProbe\n",
    "\n",
    "visit = VisitProbe()\n",
    "visit.compute(\n",
    "    data,\n",
    "    stay_types={\n",
    "        \"All\": \".*\",\n",
    "        \"Urg_Hospit\": \"urgence|hospitalisés\",\n",
    "        \"Consult\": \"consultation\",\n",
    "    },\n",
    "    care_site_levels=[\"Hospital\", \"Pole\", \"UF\"],\n",
    ")\n",
    "visit.save()\n",
    "visit.predictor.sample(frac=1).head()"
   ]
  },
  {
   "cell_type": "markdown",
   "metadata": {
    "slideshow": {
     "slide_type": "subslide"
    }
   },
   "source": [
    "### II.2 Filter your Probe (optional)\n",
    "\n",
    "In this example, let us consider we are only interested about \"Hôpital-1\" and \"Hôpital-2\" over the period from 2014 to 2021. We consequently filter data before any further analysis."
   ]
  },
  {
   "cell_type": "code",
   "execution_count": null,
   "metadata": {
    "slideshow": {
     "slide_type": "fragment"
    }
   },
   "outputs": [],
   "source": [
    "from edsteva.probes import VisitProbe\n",
    "\n",
    "start_date, end_date = (\n",
    "    \"2014-01-01\",\n",
    "    \"2021-01-01\",\n",
    ")  # This is the study period considered in the example.\n",
    "care_site_short_name = [\"Hôpital-1\", \"Hôpital-2\"]\n",
    "\n",
    "filtered_visit = VisitProbe()\n",
    "\n",
    "# `filtered_visit.predictor` is a `Pandas.DataFrame`, you can use Pandas'API to filter date.\n",
    "filtered_visit.load()\n",
    "filtered_visit.predictor = filtered_visit.predictor[\n",
    "    (filtered_visit.predictor[\"date\"] >= start_date)\n",
    "    & (filtered_visit.predictor[\"date\"] <= end_date)\n",
    "]\n",
    "\n",
    "# To filter care sites there is a dedicated method that also includes all upper and lower levels care sites related to the selected care sites.\n",
    "filtered_visit.filter_care_site(care_site_short_names=care_site_short_name)\n",
    "\n",
    "filtered_visit.predictor.sample(frac=1).head()"
   ]
  },
  {
   "cell_type": "markdown",
   "metadata": {
    "slideshow": {
     "slide_type": "subslide"
    }
   },
   "source": [
    "### II.2 Fit the Step Fucntion Model\n",
    "\n",
    "The [``StepFunction``](https://aphp.github.io/edsteva/latest/reference/models/step_function/step_function/#edsteva.models.step_function.step_function.StepFunction) fits a step function $f_{t_0, c_0}(t)$ with coefficients $\\Theta = (t_0, c_0)$ on a completeness predictor $c(t)$:\n",
    "\n",
    "$$\n",
    "\\begin{aligned}\n",
    "f_{t_0, c_0}(t) & = c_0 \\ \\mathbb{1}_{t \\geq t_0}(t) \\\\\n",
    "c(t) & = f_{t_0, c_0}(t) + \\epsilon(t)\n",
    "\\end{aligned}\n",
    "$$\n",
    "\n",
    "- the characteristic time $t_0$ estimates the time after which the data is available.\n",
    "- the characteristic value $c_0$ estimates the stabilized routine completeness."
   ]
  },
  {
   "cell_type": "code",
   "execution_count": null,
   "metadata": {
    "slideshow": {
     "slide_type": "subslide"
    }
   },
   "outputs": [],
   "source": [
    "from edsteva.models.step_function import StepFunction\n",
    "\n",
    "visit_model = StepFunction()\n",
    "visit_model.fit(\n",
    "    probe=filtered_visit,\n",
    ")\n",
    "visit_model.save()\n",
    "visit_model.estimates.sample(frac=1).head()"
   ]
  },
  {
   "cell_type": "markdown",
   "metadata": {
    "slideshow": {
     "slide_type": "slide"
    }
   },
   "source": [
    "## III. Visualize the model\n",
    "\n",
    "EDS-TeVa library provides dashboards and plots to visualize the temporal evolution of [Probes](https://aphp.github.io/edsteva/latest/components/probe/) along with fitted [Models](https://aphp.github.io/edsteva/latest/components/model/). Visualization functionalities can be used to explore the database and set thresholds relative to selection criteria."
   ]
  },
  {
   "cell_type": "markdown",
   "metadata": {
    "slideshow": {
     "slide_type": "fragment"
    }
   },
   "source": [
    "### III.1 Show interactive dashboard\n",
    "\n",
    "A **Dashboard** is an interactive [Altair](https://altair-viz.github.io/) chart that lets you visualize variables aggregated by any combination of columns included in the [Probe](https://aphp.github.io/edsteva/latest/components/probe/). In the library, the dashboards are divided into two parts:\n",
    "\n",
    "- On the top, there is the plot of the aggregated variable of interest.\n",
    "- On the bottom, there are interactive filters to set. Only the selected data is aggregated to produce the plot on the top."
   ]
  },
  {
   "cell_type": "code",
   "execution_count": null,
   "metadata": {
    "slideshow": {
     "slide_type": "subslide"
    }
   },
   "outputs": [],
   "source": [
    "from edsteva.viz.dashboards import predictor_dashboard\n",
    "\n",
    "predictor_dashboard(\n",
    "    probe=visit,\n",
    "    fitted_model=visit_model,\n",
    "    care_site_level=\"UF\",\n",
    ")"
   ]
  },
  {
   "cell_type": "markdown",
   "metadata": {
    "slideshow": {
     "slide_type": "subslide"
    }
   },
   "source": [
    "### III.2 Plot the model\n",
    "\n",
    "This static plot can be exported in png or svg. As it is less interactive, you may specify the filters in the inputs of the functions as follow:"
   ]
  },
  {
   "cell_type": "code",
   "execution_count": null,
   "metadata": {
    "slideshow": {
     "slide_type": "subslide"
    }
   },
   "outputs": [],
   "source": [
    "from edsteva.viz.plots import plot_probe\n",
    "\n",
    "plot_probe(\n",
    "    probe=visit,\n",
    "    fitted_model=visit_model,\n",
    "    care_site_level=\"Hospital\",\n",
    "    stay_type=\"All\",\n",
    ")"
   ]
  },
  {
   "cell_type": "markdown",
   "metadata": {
    "slideshow": {
     "slide_type": "slide"
    }
   },
   "source": [
    "## IV. Set the thresholds to fix the deployment bias\n",
    "\n",
    "Now, that we have estimated $t_0$, $c_0$ and $error$ for each care site and each stay type, one can set a threshold for each estimate in order to select only the care sites where the visits are available over the period of interest."
   ]
  },
  {
   "cell_type": "markdown",
   "metadata": {
    "slideshow": {
     "slide_type": "subslide"
    }
   },
   "source": [
    "### IV.1 Estimates distributions\n",
    "\n",
    "Visualizing the density plots and the medians of the estimates can help you setting the thresholds' values."
   ]
  },
  {
   "cell_type": "code",
   "execution_count": null,
   "metadata": {
    "scrolled": true,
    "slideshow": {
     "slide_type": "fragment"
    }
   },
   "outputs": [],
   "source": [
    "from edsteva.viz.plots import plot_estimates_densities\n",
    "\n",
    "plot_estimates_densities(\n",
    "    fitted_model=visit_model,\n",
    ")"
   ]
  },
  {
   "cell_type": "markdown",
   "metadata": {
    "slideshow": {
     "slide_type": "subslide"
    }
   },
   "source": [
    "### IV.2 Estimates dashboard\n",
    "\n",
    "The estimates dashboard provides a representation of the overall deviation from the Model on the top and interactive sliders on the bottom that allows you to vary the thresholds. The idea is to set the thresholds that keep the most care sites while having an acceptable overall deviation."
   ]
  },
  {
   "cell_type": "code",
   "execution_count": null,
   "metadata": {
    "slideshow": {
     "slide_type": "subslide"
    }
   },
   "outputs": [],
   "source": [
    "from edsteva.viz.dashboards import estimates_dashboard\n",
    "\n",
    "estimates_dashboard(\n",
    "    probe=visit,\n",
    "    fitted_model=visit_model,\n",
    "    care_site_level=\"UF\", # You can modify the level\n",
    ")"
   ]
  },
  {
   "cell_type": "markdown",
   "metadata": {
    "slideshow": {
     "slide_type": "subslide"
    }
   },
   "source": [
    "### IV.2 Fix the deployment bias"
   ]
  },
  {
   "cell_type": "code",
   "execution_count": null,
   "metadata": {
    "slideshow": {
     "slide_type": "subslide"
    }
   },
   "outputs": [],
   "source": [
    "t_0_max = \"2009-01-01\"  # (1)\n",
    "c_0_min = 0.63  # (2)\n",
    "error_max = 0.03  # (3)\n",
    "\n",
    "estimates = step_function_model.estimates\n",
    "selected_care_site = estimates[\n",
    "    (estimates[\"t_0\"] <= t_0_max)\n",
    "    & (estimates[\"c_0\"] >= c_0_min)\n",
    "    & (estimates[\"error\"] <= error_max)\n",
    "]\n",
    "print(selected_care_site[\"care_site_id\"].tolist())"
   ]
  },
  {
   "cell_type": "markdown",
   "metadata": {
    "slideshow": {
     "slide_type": "fragment"
    }
   },
   "source": [
    "In this example, $c_0$ and $error$ thresholds have been set around the median (cf. [distribution](#IV.1-Estimates-distributions)). However, this method is arbitrary and you have to find the appropriate method for your study with the help of the [estimate dashboard](#IV.1-Estimates-distributions)."
   ]
  },
  {
   "cell_type": "markdown",
   "metadata": {
    "slideshow": {
     "slide_type": "slide"
    }
   },
   "source": [
    "## V. We need you to improve it"
   ]
  },
  {
   "cell_type": "markdown",
   "metadata": {
    "slideshow": {
     "slide_type": "fragment"
    }
   },
   "source": [
    "### V.1 Limitations\n",
    "\n",
    "In this example, $c_0$ and $error$ thresholds have been set around the median (cf. [distribution](#IV.1-Estimates-distributions)). However, this method is arbitrary and you have to find the appropriate method for your study with the help of the [estimate dashboard](#IV.1-Estimates-distributions).\n",
    "\n",
    "EDS-TeVa provides modelling tools to characterize the temporal variability of your data, it does not intend to provide direct methods to fix the deployment bias. As an open-source library, EDS-TeVa is also here to host a discussion in order to facilitate collective methodological convergence on flexible solutions. The default methods proposed in this example is intended to be reviewed and challenged by the user community."
   ]
  },
  {
   "cell_type": "markdown",
   "metadata": {
    "slideshow": {
     "slide_type": "subslide"
    }
   },
   "source": [
    "### V.2 Make it your own\n",
    "\n",
    "The working example above describes the canonical usage workflow. However, you would probably need different Probes, Models, Visualizations and methods to set the thresholds for your projects. The components already available in the library are listed in the [documentation](https://aphp.github.io/edsteva/latest/#available-components) but if it doesn't meet your requirements, you are encouraged to create your own."
   ]
  },
  {
   "cell_type": "markdown",
   "metadata": {
    "slideshow": {
     "slide_type": "fragment"
    }
   },
   "source": [
    "### V.3 Contribute\n",
    "\n",
    "If you managed to implement your own component, or even if you just thought about a new component do not hesitate to share it with the community by following the [contribution guidelines](https://aphp.github.io/edsteva/latest/contributing/). Contributions are welcome, and they are greatly appreciated! Every little bit helps, and credit will always be given."
   ]
  }
 ],
 "metadata": {
  "celltoolbar": "Slideshow",
  "kernelspec": {
   "display_name": "edsteva",
   "language": "python",
   "name": "edsteva"
  },
  "language_info": {
   "codemirror_mode": {
    "name": "ipython",
    "version": 3
   },
   "file_extension": ".py",
   "mimetype": "text/x-python",
   "name": "python",
   "nbconvert_exporter": "python",
   "pygments_lexer": "ipython3",
   "version": "3.7.13"
  },
  "rise": {
   "enable_chalkboard": true,
   "header": "<h1>EDS-TeVa DEMO</h1>",
   "scroll": true,
   "theme": "white"
  },
  "vscode": {
   "interpreter": {
    "hash": "a5d8dd5297f7e3e09344b528abaa8e081049c8298e7d1be05beff73d367e8c75"
   }
  }
 },
 "nbformat": 4,
 "nbformat_minor": 2
}
